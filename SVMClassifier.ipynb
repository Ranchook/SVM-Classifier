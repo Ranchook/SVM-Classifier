{
 "cells": [
  {
   "cell_type": "markdown",
   "id": "9c742f87",
   "metadata": {},
   "source": [
    "# SVM Classifier\n",
    "\n",
    "1. Train the classifier on 'faces' data and measure the accuracy.\n",
    "    \n",
    "    a. Load the data and split it 80% for train, 20% for test.\n",
    "    \n",
    "    b. Train the classifier, use: \n",
    "                                    from sklearn.svm import SVC\n",
    "                                    svc = SVC(kernel='poly', degree = 2, C = 0.1) # example values\n",
    "    \n",
    "    c. What is the train and test datasets accuracies?\n",
    "    \n",
    "    d. What are the confusion matrixes of the train and test datasets?  \n",
    "    \n",
    "    \n",
    "2. Test the influence of the different parameters on the classifier's performance, use cross validation:\n",
    "\n",
    "    a. Degree of the polynomial kernel function (set by the parameter degree)\n",
    "    \n",
    "    b. The regularization parameter (set by th parameter c)\n",
    "#### Make sure to plot the results.\n",
    "\n",
    "\n",
    "3. Based on your results, choose the optimal values to set the parameters and explain why these are the optimal values."
   ]
  },
  {
   "cell_type": "code",
   "execution_count": 1,
   "id": "52ad9ea0",
   "metadata": {},
   "outputs": [
    {
     "name": "stderr",
     "output_type": "stream",
     "text": [
      "C:\\Users\\rash9\\anaconda3\\lib\\site-packages\\scipy\\__init__.py:155: UserWarning: A NumPy version >=1.18.5 and <1.26.0 is required for this version of SciPy (detected version 1.26.4\n",
      "  warnings.warn(f\"A NumPy version >={np_minversion} and <{np_maxversion}\"\n"
     ]
    }
   ],
   "source": [
    "import pandas as pd\n",
    "import numpy as np\n",
    "import matplotlib.pyplot as plt\n",
    "\n",
    "from sklearn.metrics import confusion_matrix\n",
    "from sklearn.model_selection import train_test_split\n",
    "from sklearn.model_selection import cross_val_score\n",
    "from sklearn.svm import SVC"
   ]
  },
  {
   "cell_type": "markdown",
   "id": "e9b25762",
   "metadata": {},
   "source": [
    "## Question 1"
   ]
  },
  {
   "cell_type": "markdown",
   "id": "9cc01fc3",
   "metadata": {},
   "source": [
    "##### 1.a Read data and split it"
   ]
  },
  {
   "cell_type": "code",
   "execution_count": 4,
   "id": "736abbfb",
   "metadata": {},
   "outputs": [
    {
     "data": {
      "text/plain": [
       "SVC(C=0.1, degree=2, kernel='poly')"
      ]
     },
     "execution_count": 4,
     "metadata": {},
     "output_type": "execute_result"
    }
   ],
   "source": [
    "df = pd.read_csv('faces.csv')\n",
    "x = df[df.columns[:-2]].values\n",
    "y = df[df.columns[-2]].values\n",
    "x_train, x_test, y_train, y_test = train_test_split(x, y, test_size = 0.2, random_state = 0)"
   ]
  },
  {
   "cell_type": "markdown",
   "id": "e390acc1",
   "metadata": {},
   "source": [
    "##### 1.b Train the classifier using the example values"
   ]
  },
  {
   "cell_type": "code",
   "execution_count": null,
   "id": "a0601f9e",
   "metadata": {},
   "outputs": [],
   "source": [
    "svc = SVC(kernel='poly', degree = 2, C = 0.1) # example values\n",
    "y=y.ravel()\n",
    "svc.fit(x,y)"
   ]
  },
  {
   "cell_type": "markdown",
   "id": "6f27534a",
   "metadata": {},
   "source": [
    "##### 1.c and 1.d Calculate the train and test accuracies and confusion matrixes"
   ]
  },
  {
   "cell_type": "code",
   "execution_count": 2,
   "id": "0f67688f",
   "metadata": {},
   "outputs": [],
   "source": [
    "def calculate_accuracy(x_data, y_data, svc):\n",
    "    data_cm = confusion_matrix(y_data, svc.predict(x_data))\n",
    "    data_acc = data_cm.diagonal().sum()/data_cm.sum()\n",
    "    return data_acc, data_cm"
   ]
  },
  {
   "cell_type": "code",
   "execution_count": 5,
   "id": "02206f5d",
   "metadata": {},
   "outputs": [
    {
     "name": "stdout",
     "output_type": "stream",
     "text": [
      "Train accuracy: 0.9369202226345084\n",
      "Train Confusion Matrix:\n",
      "[[ 57   4   1   2   0   0   0   0]\n",
      " [  0 179   0   9   1   0   0   1]\n",
      " [  2   2  77  10   1   0   0   1]\n",
      " [  0   3   4 424   0   0   0   0]\n",
      " [  0   3   0   5  77   0   0   1]\n",
      " [  0   2   0   2   0  50   0   1]\n",
      " [  0   1   0   1   0   0  44   0]\n",
      " [  0   3   0   6   2   0   0 102]]\n"
     ]
    }
   ],
   "source": [
    "train_acc, train_cm = calculate_accuracy(x_train, y_train, svc)\n",
    "print(\"Train accuracy:\", train_acc)\n",
    "print(\"Train Confusion Matrix:\")\n",
    "print(train_cm)"
   ]
  },
  {
   "cell_type": "code",
   "execution_count": 6,
   "id": "f962fe12",
   "metadata": {},
   "outputs": [
    {
     "name": "stdout",
     "output_type": "stream",
     "text": [
      "Test accuracy: 0.9185185185185185\n",
      "Test Confusion Matrix:\n",
      "[[ 8  3  2  0  0  0  0  0]\n",
      " [ 0 44  0  2  0  0  0  0]\n",
      " [ 0  0 26  1  1  0  0  0]\n",
      " [ 0  0  0 98  1  0  0  0]\n",
      " [ 0  0  0  1 21  0  1  0]\n",
      " [ 0  0  0  0  2 13  0  1]\n",
      " [ 0  0  0  1  1  0 12  0]\n",
      " [ 0  1  0  3  1  0  0 26]]\n"
     ]
    }
   ],
   "source": [
    "test_acc ,test_cm = calculate_accuracy(x_test, y_test, svc)\n",
    "print(\"Test accuracy:\", test_acc)\n",
    "print(\"Test Confusion Matrix:\")\n",
    "print(test_cm)"
   ]
  },
  {
   "cell_type": "markdown",
   "id": "c5612f18",
   "metadata": {},
   "source": [
    "## Question 2"
   ]
  },
  {
   "cell_type": "code",
   "execution_count": 7,
   "id": "d15616fe",
   "metadata": {},
   "outputs": [],
   "source": [
    "def create_mat(c_arr):\n",
    "    cols = [\"c value\",\"deg = 2\",\"deg = 3\"]\n",
    "    rows = len(c_arr)\n",
    "    mat = np.zeros([rows,len(cols)])\n",
    "    mat[:,0] = c_arr # c values\n",
    "    return mat"
   ]
  },
  {
   "cell_type": "markdown",
   "id": "8a15e2c6",
   "metadata": {},
   "source": [
    "##### 2.a and 2.b Check the influence of the degree and c parameters on the classifier"
   ]
  },
  {
   "cell_type": "code",
   "execution_count": 8,
   "id": "58a9b0d3",
   "metadata": {},
   "outputs": [],
   "source": [
    "def check_parameters(x,y):\n",
    "    c_arr = [0.01, 0.1, 1, 10]\n",
    "    deg_arr = [2,3]\n",
    "    train_acc_mat = create_mat(c_arr)\n",
    "    test_acc_mat = create_mat(c_arr)\n",
    "    cross_acc_mat = create_mat(c_arr)\n",
    "    \n",
    "    x_train, x_test, y_train, y_test = train_test_split(x, y, test_size = 0.2, random_state = 0)\n",
    "\n",
    "    col = 1 # maximum col is 2 (counting 0 col) , deg is col\n",
    "    for deg in deg_arr:\n",
    "        row = 0 # maximum row is 3 (counting 0 row) , c_arr is row\n",
    "        for c in c_arr:\n",
    "            \n",
    "            svc = SVC(kernel='poly', degree = deg, C = c)\n",
    "            scores = cross_val_score(estimator=svc, X=x, y=y, cv=3, n_jobs=4)\n",
    "            cross_acc_mat[row][col] = scores.mean()\n",
    "            svc.fit(x,y)\n",
    "\n",
    "            train_acc, train_cm = calculate_accuracy(x_train, y_train, svc)\n",
    "            train_acc_mat[row][col] = train_acc\n",
    "\n",
    "            test_acc ,test_cm= calculate_accuracy(x_test, y_test, svc)\n",
    "            test_acc_mat[row][col] = test_acc\n",
    "\n",
    "            row+=1            \n",
    "        col+=1\n",
    "    \n",
    "    return train_acc_mat, test_acc_mat,cross_acc_mat"
   ]
  },
  {
   "cell_type": "code",
   "execution_count": 10,
   "id": "63cc53f7",
   "metadata": {},
   "outputs": [
    {
     "name": "stdout",
     "output_type": "stream",
     "text": [
      "train accuracy matrix:\n",
      "\n",
      "[[ 0.01        0.52875696  0.95176252]\n",
      " [ 0.1         0.93692022  1.        ]\n",
      " [ 1.          0.99814471  1.        ]\n",
      " [10.          1.          1.        ]]\n",
      "\n",
      "========================================\n",
      "test accuracy matrix:\n",
      "\n",
      "[[ 0.01        0.5         0.94444444]\n",
      " [ 0.1         0.91851852  1.        ]\n",
      " [ 1.          1.          1.        ]\n",
      " [10.          1.          1.        ]]\n",
      "\n",
      "========================================\n",
      "cross validation accuracy matrix:\n",
      "\n",
      "[[ 0.01        0.46364101  0.81974759]\n",
      " [ 0.1         0.82048833  0.83087355]\n",
      " [ 1.          0.84051142  0.8308752 ]\n",
      " [10.          0.84051142  0.8308752 ]]\n"
     ]
    }
   ],
   "source": [
    "# col[0] is the different c values\n",
    "# col[1] is degree = 2\n",
    "# col[2] is degree = 3\n",
    "train_accuracy_matrix, test_accuracy_matrix, cross_accuracy_matrix = check_parameters(x,y)\n",
    "print(\"train accuracy matrix:\")\n",
    "print()\n",
    "print(train_accuracy_matrix)\n",
    "print()\n",
    "print(\"========================================\")\n",
    "print(\"test accuracy matrix:\")\n",
    "print()\n",
    "print(test_accuracy_matrix)\n",
    "print()\n",
    "print(\"========================================\")\n",
    "print(\"cross validation accuracy matrix:\")\n",
    "print()\n",
    "print(cross_accuracy_matrix)"
   ]
  },
  {
   "cell_type": "code",
   "execution_count": 11,
   "id": "c22610e0",
   "metadata": {},
   "outputs": [
    {
     "data": {
      "text/plain": [
       "Text(0.5, 1.0, 'Accuracy when degree = 2 vs different c values')"
      ]
     },
     "execution_count": 11,
     "metadata": {},
     "output_type": "execute_result"
    },
    {
     "data": {
      "image/png": "[encoded data removed]",
      "text/plain": [
       "<Figure size 640x480 with 1 Axes>"
      ]
     },
     "metadata": {},
     "output_type": "display_data"
    }
   ],
   "source": [
    "plt.plot(test_accuracy_matrix[:,0],train_accuracy_matrix[:,1])\n",
    "plt.plot(test_accuracy_matrix[:,0],cross_accuracy_matrix[:,1])\n",
    "plt.plot(test_accuracy_matrix[:,0],test_accuracy_matrix[:,1])\n",
    "\n",
    "plt.legend([\"train\", \"validation\", \"test\"])\n",
    "plt.ylabel(\"Accuracy\")\n",
    "plt.xlabel(\"c values\")\n",
    "plt.title(\"Accuracy when degree = 2 vs different c values\")\n"
   ]
  },
  {
   "cell_type": "code",
   "execution_count": 12,
   "id": "9354a8b9",
   "metadata": {},
   "outputs": [
    {
     "data": {
      "text/plain": [
       "Text(0.5, 1.0, 'Accuracy when degree = 3 vs different c values')"
      ]
     },
     "execution_count": 12,
     "metadata": {},
     "output_type": "execute_result"
    },
    {
     "data": {
      "image/png": "[encoded data removed]",
      "text/plain": [
       "<Figure size 640x480 with 1 Axes>"
      ]
     },
     "metadata": {},
     "output_type": "display_data"
    }
   ],
   "source": [
    "plt.plot(test_accuracy_matrix[:,0],train_accuracy_matrix[:,2])\n",
    "plt.plot(test_accuracy_matrix[:,0],cross_accuracy_matrix[:,2])\n",
    "plt.plot(test_accuracy_matrix[:,0],test_accuracy_matrix[:,2])\n",
    "\n",
    "plt.legend([\"train\", \"validation\", \"test\"])\n",
    "plt.ylabel(\"Accuracy\")\n",
    "plt.xlabel(\"c values\")\n",
    "plt.title(\"Accuracy when degree = 3 vs different c values\")"
   ]
  },
  {
   "cell_type": "markdown",
   "id": "3acb86ec",
   "metadata": {},
   "source": [
    "## Question 3"
   ]
  },
  {
   "cell_type": "markdown",
   "id": "472d03f2",
   "metadata": {},
   "source": [
    "##### Best values: deg = 3, c = 0.01"
   ]
  },
  {
   "cell_type": "code",
   "execution_count": 13,
   "id": "bf5b74f3",
   "metadata": {},
   "outputs": [
    {
     "name": "stdout",
     "output_type": "stream",
     "text": [
      "Train accuracy: 0.9517625231910947\n",
      "Train Confusion Matrix:\n",
      "[[ 59   4   1   0   0   0   0   0]\n",
      " [  0 183   0   7   0   0   0   0]\n",
      " [  1   2  80   9   0   0   0   1]\n",
      " [  0   4   3 424   0   0   0   0]\n",
      " [  0   2   0   3  80   1   0   0]\n",
      " [  0   1   0   3   0  51   0   0]\n",
      " [  0   1   0   0   0   0  45   0]\n",
      " [  0   1   1   6   1   0   0 104]]\n",
      "======================\n",
      "\n",
      "Test accuracy: 0.9444444444444444\n",
      "Test Confusion Matrix:\n",
      "[[ 9  3  1  0  0  0  0  0]\n",
      " [ 0 45  0  1  0  0  0  0]\n",
      " [ 0  0 26  1  1  0  0  0]\n",
      " [ 0  0  0 98  1  0  0  0]\n",
      " [ 0  0  0  1 22  0  0  0]\n",
      " [ 0  0  0  0  0 16  0  0]\n",
      " [ 0  0  0  1  1  0 12  0]\n",
      " [ 0  1  0  2  1  0  0 27]]\n"
     ]
    }
   ],
   "source": [
    "x_train, x_test, y_train, y_test = train_test_split(x, y, test_size = 0.2, random_state = 0)\n",
    "optimal_svc = SVC(kernel='poly', degree = 3, C = 0.01)\n",
    "optimal_svc.fit(x,y)\n",
    "\n",
    "train_acc, train_cm = calculate_accuracy(x_train, y_train, optimal_svc)\n",
    "print(\"Train accuracy:\", train_acc)\n",
    "print(\"Train Confusion Matrix:\")\n",
    "print(train_cm)\n",
    "\n",
    "print(\"======================\")\n",
    "print()\n",
    "test_acc ,test_cm = calculate_accuracy(x_test, y_test, optimal_svc)\n",
    "print(\"Test accuracy:\", test_acc)\n",
    "print(\"Test Confusion Matrix:\")\n",
    "print(test_cm)"
   ]
  }
 ],
 "metadata": {
  "kernelspec": {
   "display_name": "Python 3 (ipykernel)",
   "language": "python",
   "name": "python3"
  },
  "language_info": {
   "codemirror_mode": {
    "name": "ipython",
    "version": 3
   },
   "file_extension": ".py",
   "mimetype": "text/x-python",
   "name": "python",
   "nbconvert_exporter": "python",
   "pygments_lexer": "ipython3",
   "version": "3.9.13"
  }
 },
 "nbformat": 4,
 "nbformat_minor": 5
}
